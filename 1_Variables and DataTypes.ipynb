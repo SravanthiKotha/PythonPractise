{
 "cells": [
  {
   "cell_type": "markdown",
   "metadata": {},
   "source": [
    "# Assignment Instructions\n",
    "\n",
    "`Hello Innominion,`\n",
    "\n",
    "- **Try to attempt all the questions in every possible way.**\n",
    "- **Some other topics are required to solve some questions. don't panic.**\n",
    "- **Those questions can be answered after the topics are taught.**\n",
    "\n",
    "\n",
    "- `Join Mentoring Session for the Support/Doubts Resolving with Our Technical Mentors (2.00 PM - 6.00 PM  Mon-Sat)` \n",
    "\n",
    "Happy Learning !!!"
   ]
  },
  {
   "cell_type": "markdown",
   "metadata": {},
   "source": [
    "## Basics of Python"
   ]
  },
  {
   "cell_type": "markdown",
   "metadata": {},
   "source": [
    "> `Question:` Print your name"
   ]
  },
  {
   "cell_type": "code",
   "execution_count": 1,
   "metadata": {},
   "outputs": [
    {
     "name": "stdout",
     "output_type": "stream",
     "text": [
      "My name is Innomatics\n"
     ]
    }
   ],
   "source": [
    "# CODE HERE\n",
    "print(\"My name is Innomatics\")\n"
   ]
  },
  {
   "cell_type": "markdown",
   "metadata": {},
   "source": [
    "> `Question:` What is a variable? Write a Few words about Variables. Create a Variable with an Example. "
   ]
  },
  {
   "cell_type": "code",
   "execution_count": 4,
   "metadata": {},
   "outputs": [],
   "source": [
    "# WRITE HERE\n",
    "# variable is a placholder which hold some value by assigning a value to it\n",
    "# where we can reuse it in our logic and also can chnage the value of a variable through out the program"
   ]
  },
  {
   "cell_type": "code",
   "execution_count": 6,
   "metadata": {},
   "outputs": [
    {
     "name": "stdout",
     "output_type": "stream",
     "text": [
      "a is a type of : <class 'int'>\n",
      "b is a type of : <class 'str'>\n",
      "c is a type of : <class 'bool'>\n",
      "d is a type of : <class 'float'>\n",
      "e is a type of : <class 'str'>\n"
     ]
    }
   ],
   "source": [
    "# Code Here\n",
    "a = 1\n",
    "b = \"Hello\"\n",
    "c = True\n",
    "d = 2.4\n",
    "e = \"8\"\n",
    "\n",
    "print(\"{0} is a type of :\".format(\"a\"),type(a))\n",
    "print(\"{0} is a type of :\".format(\"b\"),type(b))\n",
    "print(\"{0} is a type of :\".format(\"c\"),type(c))\n",
    "print(\"{0} is a type of :\".format(\"d\"),type(d))\n",
    "print(\"{0} is a type of :\".format(\"e\"),type(e))\n"
   ]
  },
  {
   "cell_type": "markdown",
   "metadata": {},
   "source": [
    ">`Question:` Assume that we execute the following assignment statements:\n",
    "width = 17\n",
    "height = 12.0\n",
    "delimiter = '.'\n",
    "For each of the following expressions, write the value of the expression and the type (of the value of\n",
    "the expression).\n",
    "1. width/2\n",
    "2. width/2.0\n",
    "3. height/3\n",
    "4. 1 + 2 * 5\n",
    "5. delimiter * 5"
   ]
  },
  {
   "cell_type": "code",
   "execution_count": 10,
   "metadata": {},
   "outputs": [
    {
     "name": "stdout",
     "output_type": "stream",
     "text": [
      "width/2 = 8.5 and type is of <class 'float'> \n",
      "width/2.0 =8.5 and type is of <class 'float'> \n",
      "height/3 = 4.0 and type is of <class 'float'> \n",
      "1 + 2 * 5 = 11 and type is of <class 'int'> \n",
      "delimiter * 5 = ..... and type is of <class 'str'> \n"
     ]
    }
   ],
   "source": [
    "# CODE HERE\n",
    "width = 17\n",
    "height = 12.0\n",
    "delimiter = \".\"\n",
    "\n",
    "a = width/2\n",
    "b = width/2.0\n",
    "c = height/3\n",
    "d = 1 + 2 * 5\n",
    "e = delimiter * 5\n",
    "print(\"width/2 = {0} and type is of {1} \".format(a, type(a)))\n",
    "print(\"width/2.0 ={0} and type is of {1} \".format(b, type(b)))\n",
    "print(\"height/3 = {0} and type is of {1} \".format(c, type(c)))\n",
    "print(\"1 + 2 * 5 = {0} and type is of {1} \".format(d, type(d)))\n",
    "print(\"delimiter * 5 = {0} and type is of {1} \".format(e, type(e)))"
   ]
  },
  {
   "cell_type": "raw",
   "metadata": {},
   "source": [
    "# Sample Outputs\n",
    "1. width/2 = 8.5\n",
    "2. width/2.0 = 8.5\n",
    "3. height/3 = 4.0\n",
    "4. 11\n",
    "5. ....."
   ]
  },
  {
   "cell_type": "markdown",
   "metadata": {},
   "source": [
    "> `Question:` Add two number by taking variable names as first and seccond"
   ]
  },
  {
   "cell_type": "code",
   "execution_count": 11,
   "metadata": {},
   "outputs": [],
   "source": [
    "#CODE HERE\n",
    "first = 100\n",
    "second = 200"
   ]
  },
  {
   "cell_type": "code",
   "execution_count": 12,
   "metadata": {},
   "outputs": [
    {
     "name": "stdout",
     "output_type": "stream",
     "text": [
      "first number is :  100\n",
      "second number is :  200\n",
      "Addition of two numbers are :  300\n"
     ]
    }
   ],
   "source": [
    "print (\"first number is : \",first)\n",
    "print(\"second number is : \",second)\n",
    "print(\"Addition of two numbers are : \",first+second)"
   ]
  },
  {
   "cell_type": "markdown",
   "metadata": {},
   "source": [
    "> `Question:` Add your first name and second name"
   ]
  },
  {
   "cell_type": "code",
   "execution_count": 13,
   "metadata": {},
   "outputs": [],
   "source": [
    "# CODE HERE\n",
    "first_name = \"Sravanthi\"\n",
    "second_name = \"Kotha\""
   ]
  },
  {
   "cell_type": "code",
   "execution_count": 15,
   "metadata": {},
   "outputs": [
    {
     "name": "stdout",
     "output_type": "stream",
     "text": [
      "My first name is :  Sravanthi\n",
      "My second name is  Kotha\n",
      "My full name is :  Sravanthi Kotha\n"
     ]
    }
   ],
   "source": [
    "print (\"My first name is : \",first_name)\n",
    "print(\"My second name is \",second_name)\n",
    "print(\"My full name is : \",first_name+ \" \" +second_name)"
   ]
  },
  {
   "cell_type": "markdown",
   "metadata": {},
   "source": [
    "> `Question:` print the datatypes of the following\n",
    "- 10,'10',True,10.5"
   ]
  },
  {
   "cell_type": "code",
   "execution_count": 12,
   "metadata": {},
   "outputs": [],
   "source": [
    "# CODE HERE"
   ]
  },
  {
   "cell_type": "code",
   "execution_count": 16,
   "metadata": {},
   "outputs": [
    {
     "name": "stdout",
     "output_type": "stream",
     "text": [
      "data type of 10 -  <class 'int'>\n",
      "data type of '10' -  <class 'str'>\n",
      "data type of True -  <class 'bool'>\n",
      "data type of 10.5 -  <class 'float'>\n"
     ]
    }
   ],
   "source": [
    "print(\"data type of 10 - \",type(10))\n",
    "print(\"data type of '10' - \",type('10'))\n",
    "print(\"data type of True - \",type(True))\n",
    "print(\"data type of 10.5 - \",type(10.5))"
   ]
  },
  {
   "cell_type": "markdown",
   "metadata": {},
   "source": [
    " `Question:` \n",
    "> - num_int = 123\n",
    "> - num_str = \"456\"\n",
    "> - Add num_int and num_str\n",
    "- `hint: first need to convert num_str into integer`"
   ]
  },
  {
   "cell_type": "code",
   "execution_count": 17,
   "metadata": {},
   "outputs": [],
   "source": [
    "# CODE HERE\n",
    "num_int = 123\n",
    "num_str = \"456\"\n",
    "\n"
   ]
  },
  {
   "cell_type": "code",
   "execution_count": 18,
   "metadata": {},
   "outputs": [
    {
     "name": "stdout",
     "output_type": "stream",
     "text": [
      "Addition of 123 and 456 is : 579\n"
     ]
    }
   ],
   "source": [
    "print(\"Addition of 123 and 456 is :\", num_int+int(num_str) )"
   ]
  },
  {
   "cell_type": "markdown",
   "metadata": {},
   "source": [
    "### Advanced Questions"
   ]
  },
  {
   "cell_type": "markdown",
   "metadata": {},
   "source": [
    "> `Question:` The volume of a sphere with radius r is  4/3πr3  . What is the volume of a sphere with radius 5?"
   ]
  },
  {
   "cell_type": "code",
   "execution_count": 19,
   "metadata": {},
   "outputs": [
    {
     "name": "stdout",
     "output_type": "stream",
     "text": [
      "Volume of a sphere with radius 5 is :  523.8095238095239\n"
     ]
    }
   ],
   "source": [
    "# CODE HERE\n",
    "r = 5\n",
    "volume = 4/3*22/7*r**3\n",
    "\n",
    "print(\"Volume of a sphere with radius 5 is : \",volume)"
   ]
  },
  {
   "cell_type": "markdown",
   "metadata": {},
   "source": [
    "> `Question:` Suppose the cover price of a book is Rs.24.95, but bookstores get a 40% discount. Shipping costs Rs.3 for the first copy and 75 paise for each additional copy. What is the total wholesale cost for 60 copies?"
   ]
  },
  {
   "cell_type": "code",
   "execution_count": 20,
   "metadata": {},
   "outputs": [
    {
     "name": "stdout",
     "output_type": "stream",
     "text": [
      "the total wholesale cost for 60 copies :  945.4499999999999\n"
     ]
    }
   ],
   "source": [
    "# CODE HERE\n",
    "\n",
    "cover_price = 24.95\n",
    "\n",
    "discounted_Price = cover_price*0.6\n",
    "\n",
    "price_firstCopy = discounted_Price + 3\n",
    "\n",
    "price_59Copies = (discounted_Price + .75)*59\n",
    "\n",
    "print (\"the total wholesale cost for 60 copies : \",price_firstCopy+price_59Copies)"
   ]
  },
  {
   "cell_type": "code",
   "execution_count": null,
   "metadata": {},
   "outputs": [],
   "source": []
  },
  {
   "cell_type": "code",
   "execution_count": null,
   "metadata": {},
   "outputs": [],
   "source": []
  },
  {
   "cell_type": "markdown",
   "metadata": {},
   "source": [
    "# [Innomatics Research Labs](https:/innomatics.in/)\n",
    "[www.innomatics.in](https:/innomatics.in/)"
   ]
  }
 ],
 "metadata": {
  "kernelspec": {
   "display_name": "Python 3 (ipykernel)",
   "language": "python",
   "name": "python3"
  },
  "language_info": {
   "codemirror_mode": {
    "name": "ipython",
    "version": 3
   },
   "file_extension": ".py",
   "mimetype": "text/x-python",
   "name": "python",
   "nbconvert_exporter": "python",
   "pygments_lexer": "ipython3",
   "version": "3.9.12"
  }
 },
 "nbformat": 4,
 "nbformat_minor": 2
}
