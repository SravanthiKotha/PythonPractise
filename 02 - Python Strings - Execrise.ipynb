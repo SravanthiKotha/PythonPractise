{
 "cells": [
  {
   "cell_type": "markdown",
   "metadata": {},
   "source": [
    "# Assignment Instructions\n",
    "\n",
    "`Hello Innominion,`\n",
    "\n",
    "- **Try to attempt all the questions in every possible way.**\n",
    "- **Some other topics are required to solve some questions. don't panic.**\n",
    "- **Those questions can be answered after the topics are taught.**\n",
    "\n",
    "\n",
    "- `Join Mentoring Session for the Support/Doubts Resolving with Our Technical Mentors (2.00 PM - 6.00 PM  Mon-Sat)` \n",
    "\n",
    "Happy Learning !!!"
   ]
  },
  {
   "cell_type": "code",
   "execution_count": null,
   "metadata": {},
   "outputs": [],
   "source": []
  },
  {
   "cell_type": "markdown",
   "metadata": {},
   "source": [
    "# Strings - Execrise"
   ]
  },
  {
   "cell_type": "code",
   "execution_count": 2,
   "metadata": {},
   "outputs": [],
   "source": [
    "text = \"\"\"The University of Hawaii began using radio to send digital information as early as 1971,using ALOHAnet. \n",
    "Friedhelm Hillebrand conceptualised SMS in 1984 while working for Deutsche Telekom. Sitting at a typewriter at home, \n",
    "Hillebrand typed out random sentences and counted every letter, number, punctuation, and space. \n",
    "Almost every time, the messages contained fewer than 160 characters, thus giving the basis for the \n",
    "limit one could type via text messaging. With Bernard Ghillebaert of France Télécom, he developed \n",
    "a proposal for the GSM (Groupe Spécial Mobile) meeting in February 1985 in Oslo. \n",
    "The first technical solution evolved in a GSM subgroup under the leadership of Finn Trosby. \n",
    "It was further developed under the leadership of Kevin Holley and Ian Harris (see Short Message Service). \n",
    "SMS forms an integral part of SS7 (Signalling System No. 7). Under SS7, it is a \"state\" with a 160 character data, \n",
    "coded in the ITU-T \"T.56\" text format, that has a \"sequence lead in\" to determine different language codes, \n",
    "and may have special character codes that permits, for example, sending simple graphs as text. \n",
    "This was part of ISDN (Integrated Services Digital Network) and since GSM is based on this, \n",
    "made its way to the mobile phone. Messages could be sent and received on ISDN phones, \n",
    "and these can send SMS to any GSM phone. The possibility of doing something is one thing, \n",
    "implementing it another, but systems existed from 1988 that sent SMS messages to mobile phones (compare ND-NOTIS).\"\"\""
   ]
  },
  {
   "cell_type": "markdown",
   "metadata": {},
   "source": [
    ">  `Question:` How many characters in text"
   ]
  },
  {
   "cell_type": "code",
   "execution_count": 2,
   "metadata": {},
   "outputs": [],
   "source": [
    "# CODE HERE"
   ]
  },
  {
   "cell_type": "code",
   "execution_count": 4,
   "metadata": {},
   "outputs": [
    {
     "name": "stdout",
     "output_type": "stream",
     "text": [
      "no. of chars in the above string : 1507\n"
     ]
    }
   ],
   "source": [
    "count = len(text)\n",
    "\n",
    "print(\"no. of chars in the above string :\",count)"
   ]
  },
  {
   "cell_type": "markdown",
   "metadata": {},
   "source": [
    ">  `Question:` How many words are there in the \"text\""
   ]
  },
  {
   "cell_type": "code",
   "execution_count": 4,
   "metadata": {},
   "outputs": [],
   "source": [
    "# CODE HERE"
   ]
  },
  {
   "cell_type": "code",
   "execution_count": 7,
   "metadata": {},
   "outputs": [
    {
     "name": "stdout",
     "output_type": "stream",
     "text": [
      "no. of words in the above text are :  244\n"
     ]
    }
   ],
   "source": [
    "no_of_Words = len(text.split(\" \"))\n",
    "\n",
    "print(\"no. of words in the above text are : \", no_of_Words)"
   ]
  },
  {
   "cell_type": "markdown",
   "metadata": {},
   "source": [
    ">  `Question:` How many unique words in the \"text\""
   ]
  },
  {
   "cell_type": "code",
   "execution_count": 6,
   "metadata": {},
   "outputs": [],
   "source": [
    "# CODE HERE"
   ]
  },
  {
   "cell_type": "code",
   "execution_count": 8,
   "metadata": {},
   "outputs": [
    {
     "name": "stdout",
     "output_type": "stream",
     "text": [
      "no. of unnique words in the above text are :  174\n"
     ]
    }
   ],
   "source": [
    "no_Of_unique_words = len(set(text.lower().split(\" \")))\n",
    "\n",
    "print(\"no. of unnique words in the above text are : \", no_Of_unique_words)"
   ]
  },
  {
   "cell_type": "markdown",
   "metadata": {},
   "source": [
    ">  `Question:` Find Lexical diversity\n",
    "\n",
    "lexical_diversity = (number of words)/(number of unique words)"
   ]
  },
  {
   "cell_type": "code",
   "execution_count": 10,
   "metadata": {},
   "outputs": [
    {
     "name": "stdout",
     "output_type": "stream",
     "text": [
      "lexical_diversity =  1.4022988505747127\n"
     ]
    }
   ],
   "source": [
    "lexical_diversity = no_of_Words/no_Of_unique_words\n",
    "\n",
    "print(\"lexical_diversity = \",lexical_diversity)"
   ]
  },
  {
   "cell_type": "markdown",
   "metadata": {},
   "source": [
    ">  `Question:` Count how many \"the\" in text"
   ]
  },
  {
   "cell_type": "code",
   "execution_count": 9,
   "metadata": {},
   "outputs": [],
   "source": [
    "# CODE HERE"
   ]
  },
  {
   "cell_type": "code",
   "execution_count": 13,
   "metadata": {},
   "outputs": [
    {
     "name": "stdout",
     "output_type": "stream",
     "text": [
      "Count of \"the\" in the above text :  14\n"
     ]
    }
   ],
   "source": [
    "text.lower().count(\"the\")\n",
    "\n",
    "print(\"Count of \\\"the\\\" in the above text : \", text.lower().count(\"the\"))"
   ]
  },
  {
   "cell_type": "markdown",
   "metadata": {},
   "source": [
    ">  `Question:` Count how many \"a\" in text"
   ]
  },
  {
   "cell_type": "code",
   "execution_count": 14,
   "metadata": {},
   "outputs": [
    {
     "name": "stdout",
     "output_type": "stream",
     "text": [
      "Count of \"a\" in the above text :  92\n"
     ]
    }
   ],
   "source": [
    "print(\"Count of \\\"a\\\" in the above text : \", text.lower().count(\"a\"))"
   ]
  },
  {
   "cell_type": "markdown",
   "metadata": {},
   "source": [
    ">  `Question:` Extract First 10 words in text"
   ]
  },
  {
   "cell_type": "code",
   "execution_count": 12,
   "metadata": {},
   "outputs": [],
   "source": [
    "# CODE HERE"
   ]
  },
  {
   "cell_type": "code",
   "execution_count": 47,
   "metadata": {},
   "outputs": [
    {
     "name": "stdout",
     "output_type": "stream",
     "text": [
      "The University of Hawaii began using radio to send digital\n"
     ]
    }
   ],
   "source": [
    "list_of_words = text.split(\" \")\n",
    "\n",
    "\n",
    "first10_Words = ' '.join(list_of_words[:10])\n",
    "\n",
    "print(first10_Words)"
   ]
  },
  {
   "cell_type": "markdown",
   "metadata": {},
   "source": [
    ">  `Question:` Append \" Innomatics Reseach Labs\" after first 10 words in the text"
   ]
  },
  {
   "cell_type": "code",
   "execution_count": 14,
   "metadata": {},
   "outputs": [],
   "source": [
    "# CODE HERE"
   ]
  },
  {
   "cell_type": "code",
   "execution_count": 50,
   "metadata": {},
   "outputs": [
    {
     "name": "stdout",
     "output_type": "stream",
     "text": [
      "The University of Hawaii began using radio to send digital Innomatics Reseach Labs\n",
      "The University of Hawaii began using radio to send digital Innomatics Reseach Labs\n"
     ]
    }
   ],
   "source": [
    "print(first10_Words, \"Innomatics Reseach Labs\")\n",
    "print(first10_Words+ \" Innomatics Reseach Labs\")"
   ]
  },
  {
   "cell_type": "markdown",
   "metadata": {},
   "source": [
    ">  `Question:` Extract First Fourteen (14) character in text"
   ]
  },
  {
   "cell_type": "code",
   "execution_count": 16,
   "metadata": {},
   "outputs": [],
   "source": [
    "# CODE HERE"
   ]
  },
  {
   "cell_type": "code",
   "execution_count": 53,
   "metadata": {},
   "outputs": [
    {
     "data": {
      "text/plain": [
       "'The University'"
      ]
     },
     "execution_count": 53,
     "metadata": {},
     "output_type": "execute_result"
    }
   ],
   "source": [
    "text[:14]"
   ]
  },
  {
   "cell_type": "markdown",
   "metadata": {},
   "source": [
    ">  `Question:` Extract first Fourteen (14) words in text"
   ]
  },
  {
   "cell_type": "code",
   "execution_count": 18,
   "metadata": {},
   "outputs": [],
   "source": [
    "# CODE HERE"
   ]
  },
  {
   "cell_type": "code",
   "execution_count": 54,
   "metadata": {},
   "outputs": [
    {
     "data": {
      "text/plain": [
       "'The University of Hawaii began using radio to send digital information as early as'"
      ]
     },
     "execution_count": 54,
     "metadata": {},
     "output_type": "execute_result"
    }
   ],
   "source": [
    "\" \".join(list_of_words[:14])"
   ]
  },
  {
   "cell_type": "markdown",
   "metadata": {},
   "source": [
    ">  `Question:` Extract First 10 words in text\n",
    "- Convert every letter into ***upper*** case\n",
    "- Convert every letter into ***lower*** case"
   ]
  },
  {
   "cell_type": "code",
   "execution_count": 20,
   "metadata": {},
   "outputs": [],
   "source": [
    "# CODE HERE"
   ]
  },
  {
   "cell_type": "code",
   "execution_count": 56,
   "metadata": {},
   "outputs": [
    {
     "name": "stdout",
     "output_type": "stream",
     "text": [
      "First 10 words in Upper case: THE UNIVERSITY OF HAWAII BEGAN USING RADIO TO SEND DIGITAL\n"
     ]
    }
   ],
   "source": [
    "print(first10_Words.upper())"
   ]
  },
  {
   "cell_type": "code",
   "execution_count": 22,
   "metadata": {},
   "outputs": [],
   "source": [
    "# CODE HERE"
   ]
  },
  {
   "cell_type": "code",
   "execution_count": 57,
   "metadata": {},
   "outputs": [
    {
     "name": "stdout",
     "output_type": "stream",
     "text": [
      "the university of hawaii began using radio to send digital\n"
     ]
    }
   ],
   "source": [
    "print(first10_Words.lower())"
   ]
  },
  {
   "cell_type": "markdown",
   "metadata": {},
   "source": [
    ">  `Question:`  Find the list of letter starting with \n",
    "- u\n",
    "- o\n",
    "> `hint - You need to use for loop for this`"
   ]
  },
  {
   "cell_type": "code",
   "execution_count": 24,
   "metadata": {},
   "outputs": [],
   "source": [
    "# CODE HERE"
   ]
  },
  {
   "cell_type": "code",
   "execution_count": 69,
   "metadata": {},
   "outputs": [
    {
     "name": "stdout",
     "output_type": "stream",
     "text": [
      "List of words staring with u is:\n",
      "{'using', 'university', 'under'}\n"
     ]
    }
   ],
   "source": [
    "mySet = set({})\n",
    "for word in text.lower().split(\" \"):\n",
    "    if(word.startswith(\"u\")):\n",
    "        mySet.add(word)\n",
    "print(\"List of words staring with u is:\")\n",
    "print(mySet)"
   ]
  },
  {
   "cell_type": "code",
   "execution_count": 26,
   "metadata": {},
   "outputs": [
    {
     "name": "stdout",
     "output_type": "stream",
     "text": [
      "List of words staring with u is:\n",
      "{'using', 'university', 'under'}\n"
     ]
    }
   ],
   "source": []
  },
  {
   "cell_type": "code",
   "execution_count": 70,
   "metadata": {},
   "outputs": [
    {
     "name": "stdout",
     "output_type": "stream",
     "text": [
      "List of words staring with u is:\n",
      "{'oslo.', 'of', 'on', 'out', 'one'}\n"
     ]
    }
   ],
   "source": [
    "mySet = set({})\n",
    "for word in text.lower().split(\" \"):\n",
    "    if(word.startswith(\"o\")):\n",
    "        mySet.add(word)\n",
    "print(\"List of words staring with o is:\")\n",
    "print(mySet)"
   ]
  },
  {
   "cell_type": "markdown",
   "metadata": {},
   "source": [
    ">  `Question:` Find the list of letter ending with \n",
    "- e\n",
    "- n\n",
    "> `hint - You need to use for loop for this`"
   ]
  },
  {
   "cell_type": "code",
   "execution_count": 28,
   "metadata": {},
   "outputs": [],
   "source": [
    "# CODE HERE"
   ]
  },
  {
   "cell_type": "code",
   "execution_count": 71,
   "metadata": {},
   "outputs": [
    {
     "name": "stdout",
     "output_type": "stream",
     "text": [
      "List of words ends with e is:\n",
      "{'france', '(compare', 'deutsche', '\\nthe', 'message', 'have', 'mobile', 'be', 'while', 'the', 'simple', 'determine', '(groupe', 'these', '(see', 'type', '\"sequence', 'since', '\\nmade', 'language', 'one', 'he'}\n"
     ]
    }
   ],
   "source": [
    "mySet = set({})\n",
    "for word in text.lower().split(\" \"):\n",
    "    if(word.endswith(\"e\")):\n",
    "        mySet.add(word)\n",
    "print(\"List of words ends with e is:\")\n",
    "print(mySet)"
   ]
  },
  {
   "cell_type": "code",
   "execution_count": 72,
   "metadata": {},
   "outputs": [
    {
     "name": "stdout",
     "output_type": "stream",
     "text": [
      "List of words ends with n is:\n",
      "{'an', 'information', 'ian', 'began', 'solution', 'in', 'on', 'than', 'can', 'finn', 'kevin', 'isdn'}\n"
     ]
    }
   ],
   "source": [
    "mySet = set({})\n",
    "for word in text.lower().split(\" \"):\n",
    "    if(word.endswith(\"n\")):\n",
    "        mySet.add(word)\n",
    "print(\"List of words ends with n is:\")\n",
    "print(mySet)"
   ]
  },
  {
   "cell_type": "code",
   "execution_count": 31,
   "metadata": {},
   "outputs": [
    {
     "name": "stdout",
     "output_type": "stream",
     "text": [
      "List of words ends with n is:\n",
      "{'kevin', 'than', 'in', 'ian', 'an', 'solution', 'finn', 'on', 'can', 'information', 'isdn', 'began'}\n"
     ]
    }
   ],
   "source": []
  },
  {
   "cell_type": "markdown",
   "metadata": {},
   "source": [
    ">  `Question:` Extract first 10 words of text and Capitalize first letter of each word"
   ]
  },
  {
   "cell_type": "code",
   "execution_count": 74,
   "metadata": {},
   "outputs": [
    {
     "data": {
      "text/plain": [
       "'The University Of Hawaii Began Using Radio To Send Digital'"
      ]
     },
     "execution_count": 74,
     "metadata": {},
     "output_type": "execute_result"
    }
   ],
   "source": [
    "# CODE HERE\n",
    "first10_Words.title()"
   ]
  },
  {
   "cell_type": "code",
   "execution_count": 33,
   "metadata": {},
   "outputs": [
    {
     "data": {
      "text/plain": [
       "'The University Of Hawaii Began Using Radio To Send Digital'"
      ]
     },
     "execution_count": 33,
     "metadata": {},
     "output_type": "execute_result"
    }
   ],
   "source": []
  },
  {
   "cell_type": "code",
   "execution_count": null,
   "metadata": {},
   "outputs": [],
   "source": []
  },
  {
   "cell_type": "markdown",
   "metadata": {},
   "source": [
    ">  `Question:` Replace the word \"University\" with name \"Innomatics\" in text"
   ]
  },
  {
   "cell_type": "code",
   "execution_count": 77,
   "metadata": {},
   "outputs": [
    {
     "name": "stdout",
     "output_type": "stream",
     "text": [
      "The Innomatics of Hawaii began using radio to send digital information as early as 1971,using ALOHAnet. \n",
      "Friedhelm Hillebrand conceptualised SMS in 1984 while working for Deutsche Telekom. Sitting at a typewriter at home, \n",
      "Hillebrand typed out random sentences and counted every letter, number, punctuation, and space. \n",
      "Almost every time, the messages contained fewer than 160 characters, thus giving the basis for the \n",
      "limit one could type via text messaging. With Bernard Ghillebaert of France Télécom, he developed \n",
      "a proposal for the GSM (Groupe Spécial Mobile) meeting in February 1985 in Oslo. \n",
      "The first technical solution evolved in a GSM subgroup under the leadership of Finn Trosby. \n",
      "It was further developed under the leadership of Kevin Holley and Ian Harris (see Short Message Service). \n",
      "SMS forms an integral part of SS7 (Signalling System No. 7). Under SS7, it is a \"state\" with a 160 character data, \n",
      "coded in the ITU-T \"T.56\" text format, that has a \"sequence lead in\" to determine different language codes, \n",
      "and may have special character codes that permits, for example, sending simple graphs as text. \n",
      "This was part of ISDN (Integrated Services Digital Network) and since GSM is based on this, \n",
      "made its way to the mobile phone. Messages could be sent and received on ISDN phones, \n",
      "and these can send SMS to any GSM phone. The possibility of doing something is one thing, \n",
      "implementing it another, but systems existed from 1988 that sent SMS messages to mobile phones (compare ND-NOTIS).\n"
     ]
    }
   ],
   "source": [
    "# CODE HERE\n",
    "temp = text\n",
    "print(temp.replace(\"University\",\"Innomatics\"))"
   ]
  },
  {
   "cell_type": "code",
   "execution_count": 35,
   "metadata": {
    "scrolled": false
   },
   "outputs": [
    {
     "name": "stdout",
     "output_type": "stream",
     "text": [
      "The Innomatics of Hawaii began using radio to send digital information as early as 1971,using ALOHAnet. \n",
      "Friedhelm Hillebrand conceptualised SMS in 1984 while working for Deutsche Telekom. Sitting at a typewriter at home, \n",
      "Hillebrand typed out random sentences and counted every letter, number, punctuation, and space. \n",
      "Almost every time, the messages contained fewer than 160 characters, thus giving the basis for the \n",
      "limit one could type via text messaging. With Bernard Ghillebaert of France Télécom, he developed \n",
      "a proposal for the GSM (Groupe Spécial Mobile) meeting in February 1985 in Oslo. \n",
      "The first technical solution evolved in a GSM subgroup under the leadership of Finn Trosby. \n",
      "It was further developed under the leadership of Kevin Holley and Ian Harris (see Short Message Service). \n",
      "SMS forms an integral part of SS7 (Signalling System No. 7). Under SS7, it is a \"state\" with a 160 character data, \n",
      "coded in the ITU-T \"T.56\" text format, that has a \"sequence lead in\" to determine different language codes, \n",
      "and may have special character codes that permits, for example, sending simple graphs as text. \n",
      "This was part of ISDN (Integrated Services Digital Network) and since GSM is based on this, \n",
      "made its way to the mobile phone. Messages could be sent and received on ISDN phones, \n",
      "and these can send SMS to any GSM phone. The possibility of doing something is one thing, \n",
      "implementing it another, but systems existed from 1988 that sent SMS messages to mobile phones (compare ND-NOTIS).\n"
     ]
    }
   ],
   "source": []
  },
  {
   "cell_type": "markdown",
   "metadata": {},
   "source": [
    "> `Question:`  Convert the \"text\" into sentances and store those into one variable called \"sentance\"\n"
   ]
  },
  {
   "cell_type": "code",
   "execution_count": 83,
   "metadata": {},
   "outputs": [
    {
     "name": "stdout",
     "output_type": "stream",
     "text": [
      "['The University of Hawaii began using radio to send digital information as early as 1971,using ALOHAnet', ' \\nFriedhelm Hillebrand conceptualised SMS in 1984 while working for Deutsche Telekom', ' Sitting at a typewriter at home, \\nHillebrand typed out random sentences and counted every letter, number, punctuation, and space', ' \\nAlmost every time, the messages contained fewer than 160 characters, thus giving the basis for the \\nlimit one could type via text messaging', ' With Bernard Ghillebaert of France Télécom, he developed \\na proposal for the GSM (Groupe Spécial Mobile) meeting in February 1985 in Oslo', ' \\nThe first technical solution evolved in a GSM subgroup under the leadership of Finn Trosby', ' \\nIt was further developed under the leadership of Kevin Holley and Ian Harris (see Short Message Service)', ' \\nSMS forms an integral part of SS7 (Signalling System No', ' 7)', ' Under SS7, it is a \"state\" with a 160 character data, \\ncoded in the ITU-T \"T', '56\" text format, that has a \"sequence lead in\" to determine different language codes, \\nand may have special character codes that permits, for example, sending simple graphs as text', ' \\nThis was part of ISDN (Integrated Services Digital Network) and since GSM is based on this, \\nmade its way to the mobile phone', ' Messages could be sent and received on ISDN phones, \\nand these can send SMS to any GSM phone', ' The possibility of doing something is one thing, \\nimplementing it another, but systems existed from 1988 that sent SMS messages to mobile phones (compare ND-NOTIS)', '']\n"
     ]
    }
   ],
   "source": [
    "# CODE HERE\n",
    "\n",
    "sentance = text.split(\".\")\n",
    "\n",
    "print(sentance)"
   ]
  },
  {
   "cell_type": "code",
   "execution_count": 2,
   "metadata": {},
   "outputs": [
    {
     "data": {
      "text/plain": [
       "['The University of Hawaii began using radio to send digital information as early as 1971,using ALOHAnet',\n",
       " ' \\nFriedhelm Hillebrand conceptualised SMS in 1984 while working for Deutsche Telekom',\n",
       " ' Sitting at a typewriter at home, \\nHillebrand typed out random sentences and counted every letter, number, punctuation, and space',\n",
       " ' \\nAlmost every time, the messages contained fewer than 160 characters, thus giving the basis for the \\nlimit one could type via text messaging',\n",
       " ' With Bernard Ghillebaert of France Télécom, he developed \\na proposal for the GSM (Groupe Spécial Mobile) meeting in February 1985 in Oslo',\n",
       " ' \\nThe first technical solution evolved in a GSM subgroup under the leadership of Finn Trosby',\n",
       " ' \\nIt was further developed under the leadership of Kevin Holley and Ian Harris (see Short Message Service)',\n",
       " ' \\nSMS forms an integral part of SS7 (Signalling System No',\n",
       " ' 7)',\n",
       " ' Under SS7, it is a \"state\" with a 160 character data, \\ncoded in the ITU-T \"T',\n",
       " '56\" text format, that has a \"sequence lead in\" to determine different language codes, \\nand may have special character codes that permits, for example, sending simple graphs as text',\n",
       " ' \\nThis was part of ISDN (Integrated Services Digital Network) and since GSM is based on this, \\nmade its way to the mobile phone',\n",
       " ' Messages could be sent and received on ISDN phones, \\nand these can send SMS to any GSM phone',\n",
       " ' The possibility of doing something is one thing, \\nimplementing it another, but systems existed from 1988 that sent SMS messages to mobile phones (compare ND-NOTIS)',\n",
       " '']"
      ]
     },
     "execution_count": 2,
     "metadata": {},
     "output_type": "execute_result"
    }
   ],
   "source": []
  },
  {
   "cell_type": "markdown",
   "metadata": {},
   "source": [
    " `Question:`\n",
    " \n",
    "> 1.From the above sentance remove '\\n'\n"
   ]
  },
  {
   "cell_type": "code",
   "execution_count": 88,
   "metadata": {},
   "outputs": [
    {
     "name": "stdout",
     "output_type": "stream",
     "text": [
      "['The University of Hawaii began using radio to send digital information as early as 1971,using ALOHAnet', ' Friedhelm Hillebrand conceptualised SMS in 1984 while working for Deutsche Telekom', ' Sitting at a typewriter at home, Hillebrand typed out random sentences and counted every letter, number, punctuation, and space', ' Almost every time, the messages contained fewer than 160 characters, thus giving the basis for the limit one could type via text messaging', ' With Bernard Ghillebaert of France Télécom, he developed a proposal for the GSM (Groupe Spécial Mobile) meeting in February 1985 in Oslo', ' The first technical solution evolved in a GSM subgroup under the leadership of Finn Trosby', ' It was further developed under the leadership of Kevin Holley and Ian Harris (see Short Message Service)', ' SMS forms an integral part of SS7 (Signalling System No', ' 7)', ' Under SS7, it is a \"state\" with a 160 character data, coded in the ITU-T \"T', '56\" text format, that has a \"sequence lead in\" to determine different language codes, and may have special character codes that permits, for example, sending simple graphs as text', ' This was part of ISDN (Integrated Services Digital Network) and since GSM is based on this, made its way to the mobile phone', ' Messages could be sent and received on ISDN phones, and these can send SMS to any GSM phone', ' The possibility of doing something is one thing, implementing it another, but systems existed from 1988 that sent SMS messages to mobile phones (compare ND-NOTIS)', '']\n"
     ]
    }
   ],
   "source": [
    "for ele in sentance:\n",
    "    ele.replace('\\n','')\n",
    "print(sentance)"
   ]
  },
  {
   "cell_type": "markdown",
   "metadata": {},
   "source": [
    " > 2. From the above sentace print the first word from each sentance\n"
   ]
  },
  {
   "cell_type": "code",
   "execution_count": 100,
   "metadata": {},
   "outputs": [
    {
     "name": "stdout",
     "output_type": "stream",
     "text": [
      "The\n",
      "Friedhelm\n",
      "Sitting\n",
      "Almost\n",
      "With\n",
      "The\n",
      "It\n",
      "SMS\n",
      "7)\n",
      "Under\n",
      "56\"\n",
      "This\n",
      "Messages\n",
      "The\n",
      "\n"
     ]
    }
   ],
   "source": [
    "for ele in sentance:\n",
    "    print(ele.strip().split(\" \")[0])"
   ]
  },
  {
   "cell_type": "markdown",
   "metadata": {},
   "source": [
    "> 3. From the above sentace print even posioned sentances"
   ]
  },
  {
   "cell_type": "code",
   "execution_count": 91,
   "metadata": {},
   "outputs": [
    {
     "name": "stdout",
     "output_type": "stream",
     "text": [
      "The University of Hawaii began using radio to send digital information as early as 1971,using ALOHAnet\n",
      " Sitting at a typewriter at home, Hillebrand typed out random sentences and counted every letter, number, punctuation, and space\n",
      " With Bernard Ghillebaert of France Télécom, he developed a proposal for the GSM (Groupe Spécial Mobile) meeting in February 1985 in Oslo\n",
      " It was further developed under the leadership of Kevin Holley and Ian Harris (see Short Message Service)\n",
      " 7)\n",
      "56\" text format, that has a \"sequence lead in\" to determine different language codes, and may have special character codes that permits, for example, sending simple graphs as text\n",
      " Messages could be sent and received on ISDN phones, and these can send SMS to any GSM phone\n",
      "\n"
     ]
    }
   ],
   "source": [
    "for ele in sentance[::2]:\n",
    "    print(ele)"
   ]
  },
  {
   "cell_type": "markdown",
   "metadata": {},
   "source": [
    ">   `Question:` If the following string is given as input to the program:\n",
    "\n",
    "- H1e2l3l4o5w6o7r8l9d\n",
    "\n",
    ">   `Output:`  Then, the output of the program should be:\n",
    "\n",
    "- Helloworld"
   ]
  },
  {
   "cell_type": "code",
   "execution_count": 101,
   "metadata": {},
   "outputs": [
    {
     "name": "stdout",
     "output_type": "stream",
     "text": [
      "Helloworld"
     ]
    }
   ],
   "source": [
    "# CODE HERE\n",
    "temp = \"H1e2l3l4o5w6o7r8l9d\"\n",
    "for i in temp:\n",
    "    if(i.isalpha()):\n",
    "        print(i,end =\"\")"
   ]
  },
  {
   "cell_type": "markdown",
   "metadata": {},
   "source": [
    "# [Innomatics Research Labs](https:/innomatics.in/)\n",
    "[www.innomatics.in](https:/innomatics.in/)"
   ]
  },
  {
   "cell_type": "code",
   "execution_count": null,
   "metadata": {},
   "outputs": [],
   "source": []
  }
 ],
 "metadata": {
  "kernelspec": {
   "display_name": "Python 3 (ipykernel)",
   "language": "python",
   "name": "python3"
  },
  "language_info": {
   "codemirror_mode": {
    "name": "ipython",
    "version": 3
   },
   "file_extension": ".py",
   "mimetype": "text/x-python",
   "name": "python",
   "nbconvert_exporter": "python",
   "pygments_lexer": "ipython3",
   "version": "3.9.12"
  }
 },
 "nbformat": 4,
 "nbformat_minor": 2
}
