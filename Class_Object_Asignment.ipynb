{
 "cells": [
  {
   "cell_type": "code",
   "execution_count": null,
   "metadata": {
    "id": "gXQ_OQjp_ajF"
   },
   "outputs": [],
   "source": []
  },
  {
   "cell_type": "markdown",
   "metadata": {
    "id": "UlTyvTnVDRXI"
   },
   "source": [
    "## 1. Create Python class named `Student` and display its type"
   ]
  },
  {
   "cell_type": "code",
   "execution_count": 5,
   "metadata": {},
   "outputs": [
    {
     "name": "stdout",
     "output_type": "stream",
     "text": [
      "In Class Student\n",
      "<class 'type'>\n"
     ]
    }
   ],
   "source": [
    "# CODE HERE\n",
    "class Student:\n",
    "    print(\"In Class Student\")\n",
    "        \n",
    "print(type(Student))"
   ]
  },
  {
   "cell_type": "code",
   "execution_count": null,
   "metadata": {
    "colab": {
     "base_uri": "https://localhost:8080/"
    },
    "id": "DCcHnvOSDU9N",
    "outputId": "bc177e1e-656f-4a02-ab9f-a47693dbfdcc"
   },
   "outputs": [
    {
     "name": "stdout",
     "output_type": "stream",
     "text": [
      "<class 'type'>\n"
     ]
    }
   ],
   "source": []
  },
  {
   "cell_type": "code",
   "execution_count": null,
   "metadata": {},
   "outputs": [],
   "source": []
  },
  {
   "cell_type": "markdown",
   "metadata": {
    "id": "nYjL6Efcx6ad"
   },
   "source": [
    "## 2. How to call a variable and function by creating a simple class\n"
   ]
  },
  {
   "cell_type": "code",
   "execution_count": 8,
   "metadata": {},
   "outputs": [
    {
     "name": "stdout",
     "output_type": "stream",
     "text": [
      "This is Variable1\n",
      "I'm from function This is Variable1\n"
     ]
    }
   ],
   "source": [
    "class Dog:\n",
    "     #CODE HERE\n",
    "        v = \"This is Variable1\"\n",
    "        def __fun__(self):\n",
    "            print(\"I'm from function\",Dog.v)\n",
    "dog = Dog()\n",
    "print(dog.v)\n",
    "dog.__fun__()"
   ]
  },
  {
   "cell_type": "code",
   "execution_count": null,
   "metadata": {
    "colab": {
     "base_uri": "https://localhost:8080/"
    },
    "id": "2cVJl1pTyQtS",
    "outputId": "a490e4f4-11a8-44e4-fc4d-5fefcab06e34"
   },
   "outputs": [
    {
     "name": "stdout",
     "output_type": "stream",
     "text": [
      "This is Variable1\n",
      "I'm from function This is Variable1\n"
     ]
    }
   ],
   "source": []
  },
  {
   "cell_type": "markdown",
   "metadata": {
    "id": "Qrn6EsJ7putu"
   },
   "source": [
    "## 3. Create a class with one `static variable` and two `instace variables`"
   ]
  },
  {
   "cell_type": "code",
   "execution_count": 9,
   "metadata": {},
   "outputs": [],
   "source": [
    "class Demo():\n",
    "    static_var = \"I am Static variable\"\n",
    "    def __init__(self):\n",
    "        self.var1 = \"instance_var1\"\n",
    "        self.var2 = \"instance_var2\""
   ]
  },
  {
   "cell_type": "code",
   "execution_count": 12,
   "metadata": {},
   "outputs": [
    {
     "name": "stdout",
     "output_type": "stream",
     "text": [
      "I am Static variable\n",
      "instance_var1\n",
      "instance_var2\n"
     ]
    }
   ],
   "source": [
    "demo = Demo()\n",
    "print(Demo.static_var)\n",
    "print(demo.var1)\n",
    "print(demo.var2)"
   ]
  },
  {
   "cell_type": "code",
   "execution_count": 11,
   "metadata": {
    "colab": {
     "base_uri": "https://localhost:8080/"
    },
    "id": "D5z1cympyQwS",
    "outputId": "83f642f9-4867-498f-b8b7-6b39101339f7"
   },
   "outputs": [
    {
     "name": "stdout",
     "output_type": "stream",
     "text": [
      "I am Static variable\n",
      "instance_var1\n",
      "instance_var2\n"
     ]
    }
   ],
   "source": [
    "\n",
    "#CODE HERE"
   ]
  },
  {
   "cell_type": "markdown",
   "metadata": {
    "id": "m2__2x3B_gub"
   },
   "source": [
    "## 4. Create a `Vehicle` class with max_speed and mileage instance attributes"
   ]
  },
  {
   "cell_type": "code",
   "execution_count": 16,
   "metadata": {
    "id": "4M2ggFoC_hqV"
   },
   "outputs": [
    {
     "name": "stdout",
     "output_type": "stream",
     "text": [
      "240 18\n"
     ]
    }
   ],
   "source": [
    "# CODE HERE\n",
    "class Vehicle:\n",
    "    def __init__(self):\n",
    "        self.max_speed = 240\n",
    "        self.mileage = 18\n",
    "\n",
    "v = Vehicle()\n",
    "\n",
    "print(v.max_speed,v.mileage)"
   ]
  },
  {
   "cell_type": "code",
   "execution_count": null,
   "metadata": {
    "colab": {
     "base_uri": "https://localhost:8080/"
    },
    "id": "uTyOnoPN_qVJ",
    "outputId": "e4ed0414-9da1-4196-a802-41b39f455a3f"
   },
   "outputs": [
    {
     "name": "stdout",
     "output_type": "stream",
     "text": [
      "240 18\n"
     ]
    }
   ],
   "source": [
    "\n",
    "    #CODE HERE"
   ]
  },
  {
   "cell_type": "code",
   "execution_count": null,
   "metadata": {
    "id": "_Pq79YB0_rF2"
   },
   "outputs": [],
   "source": []
  },
  {
   "cell_type": "markdown",
   "metadata": {
    "id": "dGGYG_Sm1N4y"
   },
   "source": [
    "## 5. Create a simple class `Person` with constructer and one argument `name`"
   ]
  },
  {
   "cell_type": "code",
   "execution_count": 18,
   "metadata": {
    "id": "zkAdBgQP1bNW"
   },
   "outputs": [
    {
     "name": "stdout",
     "output_type": "stream",
     "text": [
      "Hello, my name is Ram\n"
     ]
    }
   ],
   "source": [
    "# CODE HERE\n",
    "class Person:\n",
    "    def __init__(self,name):\n",
    "        self.name = name\n",
    "    def say_hi(self):\n",
    "        print(\"Hello, my name is\",self.name)\n",
    "   \n",
    "    #CODE HERE\n",
    "   \n",
    "p = Person('Ram')\n",
    "p.say_hi()"
   ]
  },
  {
   "cell_type": "code",
   "execution_count": null,
   "metadata": {
    "colab": {
     "base_uri": "https://localhost:8080/"
    },
    "id": "i5vQQoIu0X_f",
    "outputId": "2b8f7cd2-cb9d-43f2-afdf-8f20411ef6cc"
   },
   "outputs": [
    {
     "name": "stdout",
     "output_type": "stream",
     "text": [
      "Hello, my name is Ram\n"
     ]
    }
   ],
   "source": [
    "# A Sample class with init method\n"
   ]
  },
  {
   "cell_type": "code",
   "execution_count": null,
   "metadata": {
    "id": "JgeHHyrp2h1u"
   },
   "outputs": [],
   "source": []
  },
  {
   "cell_type": "markdown",
   "metadata": {
    "id": "T9AQ6X3i2k6l"
   },
   "source": [
    "## 6. Create a class for `Students` information like `name, rollno, marks` and `school name` with static variable.\n",
    "- create a function for displaying student information\n",
    "- create one more function for getting students marks and percentage "
   ]
  },
  {
   "cell_type": "code",
   "execution_count": 30,
   "metadata": {},
   "outputs": [
    {
     "name": "stdout",
     "output_type": "stream",
     "text": [
      "Name: abc, RollNo: 1, Marks: 399, College: DIT\n",
      "percentage of 399 out of 500 is :  79.80000000000001\n"
     ]
    }
   ],
   "source": [
    "class Student:\n",
    "    name = \"abc\"\n",
    "    rollno = 1\n",
    "    marks = 399\n",
    "    school_name = \"DIT\"\n",
    "    def display(self):\n",
    "        print(f\"Name: {self.name}, RollNo: {self.rollno}, Marks: {self.marks}, College: {self.school_name}\")\n",
    "    def percentage(self):\n",
    "        print(f\"percentage of {self.marks} out of 500 is : \",(self.marks/500)*100)\n",
    "        \n",
    "        \n",
    "s = Student()\n",
    "s.display()\n",
    "s.percentage()"
   ]
  },
  {
   "cell_type": "code",
   "execution_count": null,
   "metadata": {},
   "outputs": [],
   "source": []
  },
  {
   "cell_type": "code",
   "execution_count": null,
   "metadata": {
    "colab": {
     "base_uri": "https://localhost:8080/"
    },
    "id": "cX4Z5_nx2h-O",
    "outputId": "5e032c7a-407b-455b-aef3-84b673a017ae"
   },
   "outputs": [
    {
     "name": "stdout",
     "output_type": "stream",
     "text": [
      "Name: abc, RollNo: 1, Marks: 399, College: DIT\n",
      "Dictionary :  {'name': 'abc', 'rno': 1, 'marks': 399}\n",
      "percentahe of 399 out of 500 is :  79.80000000000001\n"
     ]
    }
   ],
   "source": [
    "\n",
    "    # CODE HERE"
   ]
  },
  {
   "cell_type": "markdown",
   "metadata": {
    "id": "x-zGvkOi_9PD"
   },
   "source": [
    "## 7. Create a child class `Bus` that will inherit all of the variables and methods of the `Vehicle` class"
   ]
  },
  {
   "cell_type": "code",
   "execution_count": 62,
   "metadata": {
    "id": "5IppTc73__tp"
   },
   "outputs": [
    {
     "name": "stdout",
     "output_type": "stream",
     "text": [
      "Vehicle Name: School Bus Speed: 180 Mileage: 12\n"
     ]
    }
   ],
   "source": [
    "# CODE HERE\n",
    "class Vehicle:\n",
    "    name = \"Bus\"\n",
    "    Speed = 200\n",
    "    Mileage = 10\n",
    "    def __init__(self,name,Speed,Mileage):\n",
    "        self.name = name\n",
    "        self.Speed = Speed\n",
    "        self.Mileage = Mileage\n",
    "    def __str__(self):\n",
    "        return f\"Vehicle Name: {self.name} Speed: {self.Speed} Mileage: {self.Mileage}\"\n",
    "    \n",
    "    \n",
    "class Bus(Vehicle):\n",
    "    def __init__(self,name,Speed,Mileage):\n",
    "        Vehicle.name = name\n",
    "        Vehicle.Speed = Speed\n",
    "        Vehicle.Mileage = Mileage\n",
    "    def __str__(self):\n",
    "        return Vehicle.__str__(self)\n",
    "        \n",
    "        \n",
    "b = Bus(\"School Bus\",180,12)\n",
    "print(b)\n"
   ]
  },
  {
   "cell_type": "code",
   "execution_count": null,
   "metadata": {
    "colab": {
     "base_uri": "https://localhost:8080/"
    },
    "id": "Qf4ZRcg8ADOq",
    "outputId": "36f05d4e-d177-4b0a-f60d-85df44b22756"
   },
   "outputs": [
    {
     "name": "stdout",
     "output_type": "stream",
     "text": [
      "Vehicle Name: School Bus Speed: 180 Mileage: 12\n"
     ]
    }
   ],
   "source": [
    "\n",
    "\n",
    "    #CODE HERE"
   ]
  },
  {
   "cell_type": "markdown",
   "metadata": {
    "id": "Cex1VHlicvR0"
   },
   "source": [
    "## 8. Create a class `Employee` with two arguments `name and salary`\n",
    "- create a function which displays the employee information\n",
    "- Print total number of employees "
   ]
  },
  {
   "cell_type": "code",
   "execution_count": 69,
   "metadata": {},
   "outputs": [],
   "source": [
    "class Employee:\n",
    "    emp_count = 0\n",
    "    def __init__(self,name,salary):\n",
    "        Employee.emp_count +=1\n",
    "        self.name = name\n",
    "        self.salary = salary\n",
    "    def display(tricky):\n",
    "        print(f\"Name : {tricky.name} , Salary: {tricky.salary}\")\n",
    "        \n",
    "\n"
   ]
  },
  {
   "cell_type": "code",
   "execution_count": 70,
   "metadata": {},
   "outputs": [
    {
     "name": "stdout",
     "output_type": "stream",
     "text": [
      "Name : Zara , Salary: 2000\n",
      "Name : Manni , Salary: 5000\n",
      "Total Employee  2\n"
     ]
    }
   ],
   "source": [
    "e1 = Employee(\"Zara\",2000)\n",
    "e2 = Employee(\"Manni\",5000)\n",
    "e1.display()\n",
    "e2.display()\n",
    "print(\"Total Employee \",Employee.emp_count)"
   ]
  },
  {
   "cell_type": "code",
   "execution_count": null,
   "metadata": {},
   "outputs": [],
   "source": []
  },
  {
   "cell_type": "code",
   "execution_count": 10,
   "metadata": {
    "colab": {
     "base_uri": "https://localhost:8080/"
    },
    "id": "BcTNOVUiAIn7",
    "outputId": "eada07d0-cb16-4b0c-bdca-a1b360ad24b7"
   },
   "outputs": [
    {
     "name": "stdout",
     "output_type": "stream",
     "text": [
      "Name :  Zara , Salary:  2000\n",
      "Name :  Manni , Salary:  5000\n",
      "Total Employee 2\n"
     ]
    }
   ],
   "source": []
  },
  {
   "cell_type": "code",
   "execution_count": null,
   "metadata": {
    "id": "BmFF6kFScPGl"
   },
   "outputs": [],
   "source": []
  }
 ],
 "metadata": {
  "colab": {
   "collapsed_sections": [],
   "name": "Class_Object_Asignment.ipynb",
   "provenance": []
  },
  "kernelspec": {
   "display_name": "Python 3 (ipykernel)",
   "language": "python",
   "name": "python3"
  },
  "language_info": {
   "codemirror_mode": {
    "name": "ipython",
    "version": 3
   },
   "file_extension": ".py",
   "mimetype": "text/x-python",
   "name": "python",
   "nbconvert_exporter": "python",
   "pygments_lexer": "ipython3",
   "version": "3.9.12"
  }
 },
 "nbformat": 4,
 "nbformat_minor": 1
}
